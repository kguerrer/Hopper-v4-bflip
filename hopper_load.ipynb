{
 "cells": [
  {
   "cell_type": "code",
   "execution_count": 2,
   "metadata": {},
   "outputs": [],
   "source": [
    "import os\n",
    "import shutil\n",
    "import subprocess\n",
    "import time\n",
    "\n",
    "import gymnasium as gym\n",
    "import imageio\n",
    "import numpy as np\n",
    "import torch\n",
    "import tqdm\n",
    "from stable_baselines3 import PPO"
   ]
  },
  {
   "cell_type": "code",
   "execution_count": 3,
   "metadata": {},
   "outputs": [],
   "source": [
    "class CustomRewardWrapper(gym.Wrapper):\n",
    "    def __init__(self, env):\n",
    "        super(CustomRewardWrapper, self).__init__(env)\n",
    "\n",
    "    def step(self, action):\n",
    "        obs, reward, done, truncated, info = self.env.step(action)\n",
    "        # Access relevant state and action variables\n",
    "        \n",
    "        #state\n",
    "        z = obs[0]                  # Height of the robot\n",
    "        a = obs[1]                  # Angle of the robot\n",
    "        a_hip = obs[2]              # Angle of the hip\n",
    "        a_knee = obs[3]             # Angle of the knee\n",
    "        a_ankle = obs[4]            # Angle of the ankle\n",
    "        v_x = obs[5]                # Velocity in x direction\n",
    "        v_z = obs[6]                # Velocity in z direction\n",
    "        a_d = obs[7]                # Angular velocity \n",
    "        a_hip_d = obs[8]            # Angular velocity of the hip\n",
    "        a_knee_d = obs[9]           # Angular velocity of the knee\n",
    "        a_ankle_d = obs[10]         # Angular velocity of the ankle\n",
    "        \n",
    "        #action\n",
    "        torque_hip = action[0]      # Torque applied to the hip\n",
    "        torque_knee = action[1]     # Torque applied to the knee\n",
    "        torque_ankle = action[2]    # Torque applied to the ankle\n",
    "\n",
    "        #vel_act = action[0] * obs[8] + obs[9] * action[1] + action[2] * obs[10]\n",
    "\n",
    "        #different criteria for reward\n",
    "        energy_used = np.sum(np.square(action))  # Simplistic energy calculation\n",
    "\n",
    "        # Custom reward logic\n",
    "        landing_reward = a_ankle_d + a_knee_d + a_hip_d\n",
    "\n",
    "        backroll = -obs[7]\n",
    "        height = obs[0]\n",
    "        vel_act = - 2 * torque_hip * a_hip + torque_knee * a_knee + torque_ankle * a_ankle\n",
    "        backslide = -obs[5]\n",
    "        custom_reward = backroll * (1.0 + 10 * height + .6 * vel_act + .5 * backslide)\n",
    "\n",
    "        if done:\n",
    "            custom_reward -= 10  # Heavy penalty for falling\n",
    "\n",
    "        return obs, custom_reward, done, truncated, info"
   ]
  },
  {
   "cell_type": "code",
   "execution_count": 10,
   "metadata": {},
   "outputs": [
    {
     "name": "stdout",
     "output_type": "stream",
     "text": [
      "Wrapping the env with a `Monitor` wrapper\n",
      "Wrapping the env in a DummyVecEnv.\n"
     ]
    }
   ],
   "source": [
    "d = time.strftime(\"%Y-%m-%d_%H-%M-%S\")\n",
    "\n",
    "healthy_reward = 1\n",
    "healthy_z_range = (0.2, float(\"inf\"))\n",
    "healthy_angle_range = (-float(\"inf\"), float(\"inf\"))\n",
    "reset_noise_scale = 5e-3\n",
    "exclude_current_positions_from_observation = True\n",
    "\n",
    "env = gym.make('Hopper-v4', render_mode='rgb_array', healthy_reward=healthy_reward, healthy_z_range=healthy_z_range, healthy_angle_range=healthy_angle_range, reset_noise_scale=reset_noise_scale, exclude_current_positions_from_observation=exclude_current_positions_from_observation)\n",
    "env = CustomRewardWrapper(env)\n",
    "\n",
    "d = \"2024-08-11_12-02-50\"\n",
    "folder = \"C:/Users/killi/Documents/code/Hopper-4-flip\"\n",
    "file = folder + \"/Model/hopper_model_%s\"%d\n",
    "model = PPO.load(file, env=env)"
   ]
  },
  {
   "cell_type": "code",
   "execution_count": 11,
   "metadata": {},
   "outputs": [
    {
     "name": "stderr",
     "output_type": "stream",
     "text": [
      "  0%|          | 0/100000 [00:00<?, ?it/s]"
     ]
    },
    {
     "name": "stderr",
     "output_type": "stream",
     "text": [
      "  0%|          | 111/100000 [00:01<29:37, 56.20it/s] \n"
     ]
    },
    {
     "name": "stdout",
     "output_type": "stream",
     "text": [
      "Episode finished after 112 timesteps\n"
     ]
    }
   ],
   "source": [
    "vec_env = model.get_env()\n",
    "obs = vec_env.reset()\n",
    "\n",
    "writer = imageio.get_writer('hopper-flip.mp4', fps=50)\n",
    "\n",
    "N_step = 100000\n",
    "for i in tqdm.tqdm(range(N_step)):\n",
    "    action, _state = model.predict(obs, deterministic=True)\n",
    "    obs, reward, done, info = vec_env.step(action)\n",
    "    writer.append_data(vec_env.render(\"rgb_array\"))\n",
    "    #VecEnv resets automatically\n",
    "    if done:\n",
    "      print(\"Episode finished after {} timesteps\".format(i+1))\n",
    "      break\n",
    "      obs = vec_env.reset()\n",
    "\n",
    "writer.close()"
   ]
  },
  {
   "cell_type": "code",
   "execution_count": null,
   "metadata": {},
   "outputs": [],
   "source": []
  }
 ],
 "metadata": {
  "kernelspec": {
   "display_name": "hop",
   "language": "python",
   "name": "python3"
  },
  "language_info": {
   "codemirror_mode": {
    "name": "ipython",
    "version": 3
   },
   "file_extension": ".py",
   "mimetype": "text/x-python",
   "name": "python",
   "nbconvert_exporter": "python",
   "pygments_lexer": "ipython3",
   "version": "3.12.4"
  }
 },
 "nbformat": 4,
 "nbformat_minor": 2
}
