{
 "cells": [
  {
   "cell_type": "code",
   "execution_count": 30,
   "metadata": {},
   "outputs": [],
   "source": [
    "import torch\n",
    "from stable_baselines3 import PPO\n",
    "import gymnasium as gym\n",
    "import numpy as np\n",
    "from imageio import mimsave"
   ]
  },
  {
   "cell_type": "code",
   "execution_count": 31,
   "metadata": {},
   "outputs": [],
   "source": [
    "class CustomRewardWrapper(gym.Wrapper):\n",
    "    def __init__(self, env):\n",
    "        super(CustomRewardWrapper, self).__init__(env)\n",
    "\n",
    "    def step(self, action):\n",
    "        obs, reward, done, truncated, info = self.env.step(action)\n",
    "        # Access relevant state variables (these might differ based on your environment)\n",
    "        forward_velocity = obs[0]  # Example: forward velocity\n",
    "        height = obs[1]            # Example: height\n",
    "        energy_used = np.sum(np.square(action))  # Simplistic energy calculation\n",
    "\n",
    "        # Custom reward logic\n",
    "        custom_reward = forward_velocity * 1.0     # Reward for moving forward\n",
    "        custom_reward += height * 0.5              # Encourage higher jumps\n",
    "        custom_reward -= energy_used * 0.1         # Penalize energy consumption\n",
    "\n",
    "        if done:\n",
    "            custom_reward -= 10.0  # Heavy penalty for falling\n",
    "\n",
    "        return obs, custom_reward, done, truncated, info"
   ]
  },
  {
   "cell_type": "code",
   "execution_count": null,
   "metadata": {},
   "outputs": [],
   "source": [
    "# Use the wrapper with the Hopper environment\n",
    "env = gym.make('Hopper-v4', render_mode='rgb_array')\n",
    "env = CustomRewardWrapper(env)\n",
    "\n",
    "model = PPO(\"MlpPolicy\", env, verbose=1)\n",
    "\n",
    "# Train the model\n",
    "model.learn(total_timesteps=10)\n",
    "\n",
    "# Save the model\n",
    "model.save(\"hopper\")"
   ]
  },
  {
   "cell_type": "code",
   "execution_count": 29,
   "metadata": {},
   "outputs": [
    {
     "name": "stdout",
     "output_type": "stream",
     "text": [
      "(480, 480, 3)\n"
     ]
    }
   ],
   "source": [
    "vec_env = model.get_env()\n",
    "obs = vec_env.reset()\n",
    "\n",
    "render = []\n",
    "\n",
    "N_step = 10\n",
    "for i in range(N_step):\n",
    "    action, _state = model.predict(obs, deterministic=True)\n",
    "    obs, reward, done, info = vec_env.step(action)\n",
    "    render.append(vec_env.render(\"rgb_array\"))\n",
    "    if done:\n",
    "        break\n",
    "    # VecEnv resets automatically\n",
    "    # if done:\n",
    "    #   obs = vec_env.reset()\n",
    "\n",
    "mimsave('hopper_render.gif', render, duration=1) "
   ]
  },
  {
   "cell_type": "code",
   "execution_count": null,
   "metadata": {},
   "outputs": [],
   "source": []
  }
 ],
 "metadata": {
  "kernelspec": {
   "display_name": "base",
   "language": "python",
   "name": "python3"
  },
  "language_info": {
   "codemirror_mode": {
    "name": "ipython",
    "version": 3
   },
   "file_extension": ".py",
   "mimetype": "text/x-python",
   "name": "python",
   "nbconvert_exporter": "python",
   "pygments_lexer": "ipython3",
   "version": "3.12.4"
  }
 },
 "nbformat": 4,
 "nbformat_minor": 2
}
